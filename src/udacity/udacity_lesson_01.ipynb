{
 "cells": [
  {
   "cell_type": "code",
   "execution_count": null,
   "metadata": {},
   "outputs": [],
   "source": [
    "%matplotlib inline\n",
    "import numpy as np\n",
    "import matplotlib.pyplot as plt\n",
    "import seaborn as sns\n",
    "import pandas as pd"
   ]
  },
  {
   "cell_type": "code",
   "execution_count": 2,
   "metadata": {},
   "outputs": [
    {
     "name": "stdout",
     "output_type": "stream",
     "text": [
      "hello world\n"
     ]
    }
   ],
   "source": [
    "print ('hello world');"
   ]
  },
  {
   "cell_type": "code",
   "execution_count": 3,
   "metadata": {},
   "outputs": [
    {
     "data": {
      "text/html": [
       "<div>\n",
       "<style scoped>\n",
       "    .dataframe tbody tr th:only-of-type {\n",
       "        vertical-align: middle;\n",
       "    }\n",
       "\n",
       "    .dataframe tbody tr th {\n",
       "        vertical-align: top;\n",
       "    }\n",
       "\n",
       "    .dataframe thead th {\n",
       "        text-align: right;\n",
       "    }\n",
       "</style>\n",
       "<table border=\"1\" class=\"dataframe\">\n",
       "  <thead>\n",
       "    <tr style=\"text-align: right;\">\n",
       "      <th></th>\n",
       "      <th>a</th>\n",
       "      <th>b</th>\n",
       "    </tr>\n",
       "  </thead>\n",
       "  <tbody>\n",
       "    <tr>\n",
       "      <th>0</th>\n",
       "      <td>2</td>\n",
       "      <td>1</td>\n",
       "    </tr>\n",
       "    <tr>\n",
       "      <th>1</th>\n",
       "      <td>4</td>\n",
       "      <td>3</td>\n",
       "    </tr>\n",
       "    <tr>\n",
       "      <th>2</th>\n",
       "      <td>6</td>\n",
       "      <td>5</td>\n",
       "    </tr>\n",
       "    <tr>\n",
       "      <th>3</th>\n",
       "      <td>8</td>\n",
       "      <td>7</td>\n",
       "    </tr>\n",
       "  </tbody>\n",
       "</table>\n",
       "</div>"
      ],
      "text/plain": [
       "   a  b\n",
       "0  2  1\n",
       "1  4  3\n",
       "2  6  5\n",
       "3  8  7"
      ]
     },
     "execution_count": 3,
     "metadata": {},
     "output_type": "execute_result"
    }
   ],
   "source": [
    "df = pd.DataFrame({'a': [2, 4, 6, 8], 'b': [1, 3, 5, 7]})\n",
    "print (df)"
   ]
  },
  {
   "cell_type": "code",
   "execution_count": null,
   "metadata": {},
   "outputs": [],
   "source": [
    "import pandas as pd\n",
    "\n",
    "df = pd.DataFrame({'a': [2, 4, 6, 8], 'b': [1, 3, 5, 7]})"
   ]
  },
  {
   "cell_type": "code",
   "execution_count": 5,
   "metadata": {},
   "outputs": [
    {
     "name": "stdout",
     "output_type": "stream",
     "text": [
      "   0  1  2  3\n",
      "a  2  4  6  8\n",
      "b  1  3  5  7\n"
     ]
    }
   ],
   "source": [
    "print (df.T)"
   ]
  },
  {
   "cell_type": "code",
   "execution_count": 9,
   "metadata": {},
   "outputs": [
    {
     "data": {
      "text/plain": [
       "OrderedDict([('account_key', '448'),\n",
       "             ('status', 'canceled'),\n",
       "             ('join_date', '2014-11-10'),\n",
       "             ('cancel_date', '2015-01-14'),\n",
       "             ('days_to_cancel', '65'),\n",
       "             ('is_udacity', 'True'),\n",
       "             ('is_canceled', 'True')])"
      ]
     },
     "execution_count": 9,
     "metadata": {},
     "output_type": "execute_result"
    }
   ],
   "source": [
    "import unicodecsv\n",
    "\n",
    "enrollments = []\n",
    "f = open('../data/lesson01/enrollments.csv', 'rb')\n",
    "readIterator = unicodecsv.DictReader(f)\n",
    "\n",
    "for row in readIterator:\n",
    "    enrollments.append(row)\n",
    "    \n",
    "enrollments[0]\n",
    "    \n"
   ]
  },
  {
   "cell_type": "code",
   "execution_count": 11,
   "metadata": {},
   "outputs": [
    {
     "data": {
      "text/plain": [
       "OrderedDict([('account_key', '448'),\n",
       "             ('status', 'canceled'),\n",
       "             ('join_date', '2014-11-10'),\n",
       "             ('cancel_date', '2015-01-14'),\n",
       "             ('days_to_cancel', '65'),\n",
       "             ('is_udacity', 'True'),\n",
       "             ('is_canceled', 'True')])"
      ]
     },
     "execution_count": 11,
     "metadata": {},
     "output_type": "execute_result"
    }
   ],
   "source": [
    "import unicodecsv\n",
    "\n",
    "enrollments = []\n",
    "with open('../data/lesson01/enrollments.csv', 'rb') as f:\n",
    "    readIterator = unicodecsv.DictReader(f)\n",
    "    enrollments = list (readIterator)\n",
    "    \n",
    "enrollments[0]"
   ]
  },
  {
   "cell_type": "code",
   "execution_count": 190,
   "metadata": {},
   "outputs": [
    {
     "data": {
      "text/plain": [
       "OrderedDict([('acct', '0'),\n",
       "             ('utc_date', '2015-01-09'),\n",
       "             ('num_courses_visited', '1.0'),\n",
       "             ('total_minutes_visited', '11.6793745'),\n",
       "             ('lessons_completed', '0.0'),\n",
       "             ('projects_completed', '0.0')])"
      ]
     },
     "execution_count": 190,
     "metadata": {},
     "output_type": "execute_result"
    }
   ],
   "source": [
    "engagement_filename = '../data/lesson01/daily_engagement.csv'\n",
    "submissions_filename = '../data/lesson01/project_submissions.csv'\n",
    "\n",
    "def read_csv(fileName):\n",
    "    with open(fileName, 'rb') as f:\n",
    "        readIterator = unicodecsv.DictReader(f)\n",
    "        return list (readIterator)\n",
    "    \n",
    "enrollments = read_csv('../data/enrollments.csv')\n",
    "daily_engagement = read_csv(engagement_filename);\n",
    "project_submissions = read_csv(submissions_filename);\n",
    "\n",
    "daily_engagement[0]\n",
    "\n",
    "    "
   ]
  },
  {
   "cell_type": "code",
   "execution_count": 191,
   "metadata": {},
   "outputs": [
    {
     "data": {
      "text/plain": [
       "OrderedDict([('creation_date', '2015-01-14'),\n",
       "             ('completion_date', '2015-01-16'),\n",
       "             ('assigned_rating', 'UNGRADED'),\n",
       "             ('account_key', '256'),\n",
       "             ('lesson_key', '3176718735'),\n",
       "             ('processing_state', 'EVALUATED')])"
      ]
     },
     "execution_count": 191,
     "metadata": {},
     "output_type": "execute_result"
    }
   ],
   "source": [
    "project_submissions[0]"
   ]
  },
  {
   "cell_type": "code",
   "execution_count": 192,
   "metadata": {},
   "outputs": [
    {
     "data": {
      "text/plain": [
       "OrderedDict([('account_key', '448'),\n",
       "             ('status', 'canceled'),\n",
       "             ('join_date', '2014-11-10'),\n",
       "             ('cancel_date', '2015-01-14'),\n",
       "             ('days_to_cancel', '65'),\n",
       "             ('is_udacity', 'True'),\n",
       "             ('is_canceled', 'True')])"
      ]
     },
     "execution_count": 192,
     "metadata": {},
     "output_type": "execute_result"
    }
   ],
   "source": [
    "enrollments[0]"
   ]
  },
  {
   "cell_type": "code",
   "execution_count": 193,
   "metadata": {},
   "outputs": [],
   "source": [
    "from datetime import datetime as dt\n",
    "\n",
    "\n",
    "def parse_date(date):\n",
    "    if date == '':\n",
    "        return None\n",
    "    else:\n",
    "        return dt.strptime(date,'%Y-%m-%d')\n",
    "    \n",
    "\n",
    "def parse_int(i):\n",
    "    if i == '':\n",
    "        return None\n",
    "    else:\n",
    "        return int(i)\n",
    "    \n",
    "def parse_float(i):\n",
    "    if i == '':\n",
    "        return None\n",
    "    else:\n",
    "        return float(i)\n",
    "    \n",
    "def parse_bool(boolean):\n",
    "    if boolean == '':\n",
    "        return None\n",
    "    else:\n",
    "        return boolean =='True'    \n",
    "\n",
    "# Python does not have switch statment, rather use dict approach\n",
    "parser = {\n",
    "        'int':parse_int,\n",
    "        'date':parse_date,\n",
    "        'bool':parse_bool\n",
    "    }\n",
    "    \n",
    "\n",
    "#parser.get('int')('1')\n",
    "#parser.get('date')('2001-1-1') \n",
    "#parser['date'] ('2001-1-1') ## another \n",
    "\n",
    "\n"
   ]
  },
  {
   "cell_type": "code",
   "execution_count": 194,
   "metadata": {},
   "outputs": [
    {
     "name": "stdout",
     "output_type": "stream",
     "text": [
      "project_submissions OrderedDict([('creation_date', datetime.datetime(2015, 1, 14, 0, 0)), ('completion_date', datetime.datetime(2015, 1, 16, 0, 0)), ('assigned_rating', 'UNGRADED'), ('account_key', '256'), ('lesson_key', '3176718735'), ('processing_state', 'EVALUATED')])\n"
     ]
    }
   ],
   "source": [
    "for submission in project_submissions:\n",
    "    submission['creation_date'] = parse_date(submission['creation_date'])\n",
    "    submission['completion_date'] = parse_date(submission['completion_date'])\n",
    "    \n",
    "print ('project_submissions', project_submissions[0])"
   ]
  },
  {
   "cell_type": "code",
   "execution_count": 195,
   "metadata": {},
   "outputs": [
    {
     "name": "stdout",
     "output_type": "stream",
     "text": [
      "enrollments OrderedDict([('account_key', '448'), ('status', 'canceled'), ('join_date', datetime.datetime(2014, 11, 10, 0, 0)), ('cancel_date', datetime.datetime(2015, 1, 14, 0, 0)), ('days_to_cancel', 65), ('is_udacity', True), ('is_canceled', True)])\n"
     ]
    }
   ],
   "source": [
    "for enrollment in enrollments:\n",
    "    enrollment['cancel_date'] = parse_date(enrollment['cancel_date'])\n",
    "    enrollment['join_date'] = parse_date(enrollment['join_date'])\n",
    "    enrollment['days_to_cancel'] = parse_int(enrollment['days_to_cancel'])\n",
    "    enrollment['is_udacity'] = parse_bool(enrollment['is_udacity'])\n",
    "    enrollment['is_canceled'] = parse_bool(enrollment['is_canceled'])\n",
    "    \n",
    "print ('enrollments', enrollments[0])\n"
   ]
  },
  {
   "cell_type": "code",
   "execution_count": 196,
   "metadata": {},
   "outputs": [
    {
     "name": "stdout",
     "output_type": "stream",
     "text": [
      "daily_engagement OrderedDict([('acct', '0'), ('utc_date', datetime.datetime(2015, 1, 9, 0, 0)), ('num_courses_visited', 1), ('total_minutes_visited', 11.6793745), ('lessons_completed', 0), ('projects_completed', 0), ('has_visited', 1)])\n"
     ]
    }
   ],
   "source": [
    "for engagment in daily_engagement:\n",
    "    engagment['utc_date'] = parse_date(engagment['utc_date'])    \n",
    "    engagment['num_courses_visited'] = parse_int(parse_float(engagment['num_courses_visited']))\n",
    "    engagment['total_minutes_visited'] = parse_float(engagment['total_minutes_visited'])\n",
    "    engagment['lessons_completed'] = parse_int(parse_float(engagment['lessons_completed']))\n",
    "    engagment['projects_completed'] = parse_int(parse_float(engagment['projects_completed']))\n",
    "    \n",
    "    # new computed column\n",
    "    if(engagment['num_courses_visited'] > 0): \n",
    "        engagment['has_visited'] =   1\n",
    "    else:\n",
    "        engagment['has_visited'] =  0\n",
    "    \n",
    "print ('daily_engagement', daily_engagement[0])"
   ]
  },
  {
   "cell_type": "code",
   "execution_count": 197,
   "metadata": {},
   "outputs": [
    {
     "name": "stdout",
     "output_type": "stream",
     "text": [
      "enrollments 1640 1302\n",
      "daily_engagement 136240 1237\n",
      "project_submissions 3642 743\n"
     ]
    }
   ],
   "source": [
    "def unique_keys(items, key):\n",
    "    unique = set()\n",
    "    for item in items:\n",
    "        unique.add(item[key])\n",
    "    return unique\n",
    "\n",
    "\n",
    "print ('enrollments', len(enrollments), len(unique_keys(enrollments,'account_key')))\n",
    "print ('daily_engagement', len(daily_engagement), len(unique_keys(daily_engagement,'acct')))\n",
    "print ('project_submissions', len(project_submissions), len(unique_keys(project_submissions,'account_key')))\n",
    "    "
   ]
  },
  {
   "cell_type": "code",
   "execution_count": 198,
   "metadata": {},
   "outputs": [
    {
     "data": {
      "text/plain": [
       "'0'"
      ]
     },
     "execution_count": 198,
     "metadata": {},
     "output_type": "execute_result"
    }
   ],
   "source": [
    "for engagment in daily_engagement:\n",
    "    engagment['account_key'] = engagment['acct']    \n",
    "    del engagment['acct']   \n",
    "    \n",
    "daily_engagement [0]['account_key']\n",
    "    "
   ]
  },
  {
   "cell_type": "code",
   "execution_count": 199,
   "metadata": {},
   "outputs": [
    {
     "name": "stdout",
     "output_type": "stream",
     "text": [
      "Enrollment keys missing in engagement 65\n",
      "Engagement keys missing in Enroment set()\n"
     ]
    }
   ],
   "source": [
    "unique_enrollment_keys = unique_keys(enrollments,'account_key')\n",
    "unique_engagement_keys = unique_keys(daily_engagement,'account_key')\n",
    "\n",
    "print ('Enrollment keys missing in engagement',len(unique_enrollment_keys.difference(unique_engagement_keys)))\n",
    "print ('Engagement keys missing in Enroment',unique_engagement_keys.difference(unique_enrollment_keys))\n"
   ]
  },
  {
   "cell_type": "code",
   "execution_count": 200,
   "metadata": {},
   "outputs": [
    {
     "name": "stdout",
     "output_type": "stream",
     "text": [
      "OrderedDict([('account_key', '1304'), ('status', 'canceled'), ('join_date', datetime.datetime(2015, 1, 10, 0, 0)), ('cancel_date', datetime.datetime(2015, 3, 10, 0, 0)), ('days_to_cancel', 59), ('is_udacity', True), ('is_canceled', True)])\n",
      "OrderedDict([('account_key', '1304'), ('status', 'canceled'), ('join_date', datetime.datetime(2015, 3, 10, 0, 0)), ('cancel_date', datetime.datetime(2015, 6, 17, 0, 0)), ('days_to_cancel', 99), ('is_udacity', True), ('is_canceled', True)])\n",
      "OrderedDict([('account_key', '1101'), ('status', 'current'), ('join_date', datetime.datetime(2015, 2, 25, 0, 0)), ('cancel_date', None), ('days_to_cancel', None), ('is_udacity', True), ('is_canceled', False)])\n"
     ]
    },
    {
     "data": {
      "text/plain": [
       "3"
      ]
     },
     "execution_count": 200,
     "metadata": {},
     "output_type": "execute_result"
    }
   ],
   "source": [
    "num_problem_students = 0\n",
    "\n",
    "for enrollment in enrollments:\n",
    "    account_key = enrollment['account_key']\n",
    "    if(account_key not in unique_engagement_keys) and enrollment['join_date'] != enrollment['cancel_date']:\n",
    "        num_problem_students += 1;\n",
    "        print (enrollment)\n",
    "\n",
    "num_problem_students\n",
    "                                                                                        "
   ]
  },
  {
   "cell_type": "code",
   "execution_count": 201,
   "metadata": {},
   "outputs": [
    {
     "data": {
      "text/plain": [
       "6"
      ]
     },
     "execution_count": 201,
     "metadata": {},
     "output_type": "execute_result"
    }
   ],
   "source": [
    "udacity_test_accounts = set()\n",
    "\n",
    "for enrollment in enrollments:\n",
    "    if(enrollment['is_udacity']):\n",
    "        udacity_test_accounts.add(enrollment['account_key'])\n",
    "\n",
    "len(udacity_test_accounts)"
   ]
  },
  {
   "cell_type": "code",
   "execution_count": 202,
   "metadata": {},
   "outputs": [],
   "source": [
    "def remove_test_accounts(data):\n",
    "    non_udacity_data = []\n",
    "    for item in data:\n",
    "        if(item['account_key'] not in udacity_test_accounts):\n",
    "            non_udacity_data.append(item)\n",
    "    return non_udacity_data\n",
    "\n"
   ]
  },
  {
   "cell_type": "code",
   "execution_count": 203,
   "metadata": {},
   "outputs": [
    {
     "name": "stdout",
     "output_type": "stream",
     "text": [
      "non_udacity_enrollments 1622\n",
      "non_udacity_engagement 135656\n",
      "non_udacity_submissions 3634\n"
     ]
    }
   ],
   "source": [
    "non_udacity_enrollments = remove_test_accounts(enrollments)\n",
    "non_udacity_engagement = remove_test_accounts(daily_engagement)\n",
    "non_udacity_submissions = remove_test_accounts(project_submissions)\n",
    "\n",
    "print ('non_udacity_enrollments', len(non_udacity_enrollments))\n",
    "print ('non_udacity_engagement', len(non_udacity_engagement))\n",
    "print ('non_udacity_submissions', len(non_udacity_submissions))\n"
   ]
  },
  {
   "cell_type": "code",
   "execution_count": 204,
   "metadata": {},
   "outputs": [
    {
     "data": {
      "text/plain": [
       "995"
      ]
     },
     "execution_count": 204,
     "metadata": {},
     "output_type": "execute_result"
    }
   ],
   "source": [
    "paid_students = {}\n",
    "\n",
    "for enrollment in non_udacity_enrollments:\n",
    "    if(enrollment['days_to_cancel'] == None or enrollment['days_to_cancel'] > 7):\n",
    "        account_key = enrollment['account_key']\n",
    "        join_date = enrollment['join_date']\n",
    "        if(account_key not in paid_students or join_date > paid_students[account_key]):\n",
    "            paid_students[account_key] = join_date\n",
    "\n",
    "len(paid_students)"
   ]
  },
  {
   "cell_type": "code",
   "execution_count": 205,
   "metadata": {},
   "outputs": [],
   "source": [
    "def remove_free_trial_cancels(data):\n",
    "    paid_data = []\n",
    "    for item in data:\n",
    "        if(item['account_key'] in paid_students):\n",
    "            paid_data.append(item)\n",
    "    \n",
    "    return paid_data    \n",
    "    "
   ]
  },
  {
   "cell_type": "code",
   "execution_count": 206,
   "metadata": {},
   "outputs": [
    {
     "name": "stdout",
     "output_type": "stream",
     "text": [
      "paid_enrollments 1293\n",
      "paid_engagement 134549\n",
      "paid_submissions 3618\n"
     ]
    }
   ],
   "source": [
    "paid_enrollments = remove_free_trial_cancels(non_udacity_enrollments)\n",
    "paid_engagement = remove_free_trial_cancels(non_udacity_engagement)\n",
    "paid_submissions= remove_free_trial_cancels(non_udacity_submissions)\n",
    "\n",
    "print ('paid_enrollments', len(paid_enrollments))\n",
    "print ('paid_engagement', len(paid_engagement))\n",
    "print ('paid_submissions', len(paid_submissions))"
   ]
  },
  {
   "cell_type": "code",
   "execution_count": 207,
   "metadata": {},
   "outputs": [],
   "source": []
  },
  {
   "cell_type": "code",
   "execution_count": 208,
   "metadata": {},
   "outputs": [],
   "source": [
    "def within_one_week(join_date, engagement_date):\n",
    "    time_delta = engagement_date - join_date\n",
    "    return time_delta.days < 7 and time_delta.days >=0\n",
    "\n",
    "#non_udacity_engagement[0]"
   ]
  },
  {
   "cell_type": "code",
   "execution_count": 209,
   "metadata": {},
   "outputs": [
    {
     "data": {
      "text/plain": [
       "6919"
      ]
     },
     "execution_count": 209,
     "metadata": {},
     "output_type": "execute_result"
    }
   ],
   "source": [
    "paid_engagement_in_first_week = []\n",
    "\n",
    "for engagement in paid_engagement:\n",
    "    if(within_one_week(paid_students[engagement['account_key']],engagement['utc_date'] )):\n",
    "        paid_engagement_in_first_week.append(engagement)\n",
    "        \n",
    "len(paid_engagement_in_first_week)"
   ]
  },
  {
   "cell_type": "code",
   "execution_count": 210,
   "metadata": {},
   "outputs": [
    {
     "name": "stdout",
     "output_type": "stream",
     "text": [
      "engagement_by_account 995\n"
     ]
    }
   ],
   "source": [
    "# Set - Account Key -> [Engagement]\n",
    "\n",
    "from collections import defaultdict\n",
    "\n",
    "def group_by_key(data, key):\n",
    "    \n",
    "    grouped_data = defaultdict(list)\n",
    "    \n",
    "    for item in data:\n",
    "        grouped_data[item[key]].append(item)\n",
    "    \n",
    "    return grouped_data\n",
    "\n",
    "engagement_by_account = group_by_key(paid_engagement_in_first_week, 'account_key')\n",
    "\n",
    "print ('engagement_by_account', len(engagement_by_account))"
   ]
  },
  {
   "cell_type": "code",
   "execution_count": 211,
   "metadata": {},
   "outputs": [],
   "source": [
    "\n",
    "def aggregate_data(grouped_data, agg_column):\n",
    "    total_by_account = {}\n",
    "    for account_key, engagement_for_student in grouped_data.items():\n",
    "        total_by_account[account_key] = 0\n",
    "        for engagement in engagement_for_student:\n",
    "            total_by_account[account_key] += engagement[agg_column]                \n",
    "    return total_by_account\n"
   ]
  },
  {
   "cell_type": "code",
   "execution_count": 259,
   "metadata": {},
   "outputs": [],
   "source": [
    "def describe_data(grouped_data, agg_column):\n",
    "    agg_column_data = aggregate_data(grouped_data, agg_column)\n",
    "    totals = list(agg_column_data.values())\n",
    "    #total_minutes\n",
    "    print ('############## ' + agg_column + ' ##############')\n",
    "    print ('Mean:' , np.mean(totals))\n",
    "    print ('Standard deviation:', np.std(totals))\n",
    "    print ('Minimum:', np.min(totals))\n",
    "    print ('Maximum:', np.max(totals))\n",
    "    #print ('Average:', np.avg(totals))\n",
    "    \n",
    "    plt.ylabel('Count')\n",
    "    plt.xlabel(agg_column)\n",
    "    plt.hist(totals, bins=10)\n",
    "\n",
    "    print ('############## END ##############')"
   ]
  },
  {
   "cell_type": "code",
   "execution_count": 260,
   "metadata": {},
   "outputs": [
    {
     "name": "stdout",
     "output_type": "stream",
     "text": [
      "############## total_minutes_visited ##############\n",
      "Mean: 306.70832675342825\n",
      "Standard deviation: 412.99693340852957\n",
      "Minimum: 0.0\n",
      "Maximum: 3564.7332644989997\n",
      "############## END ##############\n"
     ]
    },
    {
     "data": {
      "image/png": "[encoded data removed]",
      "text/plain": [
       "<matplotlib.figure.Figure at 0x31fe73c8>"
      ]
     },
     "metadata": {},
     "output_type": "display_data"
    }
   ],
   "source": [
    "engagement_by_account = group_by_key(paid_engagement_in_first_week, 'account_key')\n",
    "describe_data(engagement_by_account, 'total_minutes_visited')"
   ]
  },
  {
   "cell_type": "code",
   "execution_count": 261,
   "metadata": {},
   "outputs": [
    {
     "name": "stdout",
     "output_type": "stream",
     "text": [
      "############## lessons_completed ##############\n",
      "Mean: 1.636180904522613\n",
      "Standard deviation: 3.002561299829423\n",
      "Minimum: 0\n",
      "Maximum: 36\n",
      "############## END ##############\n"
     ]
    },
    {
     "data": {
      "image/png": "[encoded data removed]",
      "text/plain": [
       "<matplotlib.figure.Figure at 0x32050630>"
      ]
     },
     "metadata": {},
     "output_type": "display_data"
    }
   ],
   "source": [
    "engagement_by_account = group_by_key(paid_engagement_in_first_week, 'account_key')\n",
    "describe_data(engagement_by_account, 'lessons_completed')"
   ]
  },
  {
   "cell_type": "code",
   "execution_count": 262,
   "metadata": {},
   "outputs": [
    {
     "name": "stdout",
     "output_type": "stream",
     "text": [
      "############## projects_completed ##############\n",
      "Mean: 0.006030150753768844\n",
      "Standard deviation: 0.08946417320308696\n",
      "Minimum: 0\n",
      "Maximum: 2\n",
      "############## END ##############\n"
     ]
    },
    {
     "data": {
      "image/png": "[encoded data removed]",
      "text/plain": [
       "<matplotlib.figure.Figure at 0x31540ac8>"
      ]
     },
     "metadata": {},
     "output_type": "display_data"
    }
   ],
   "source": [
    "engagement_by_account = group_by_key(paid_engagement_in_first_week, 'account_key')\n",
    "describe_data(engagement_by_account, 'projects_completed')"
   ]
  },
  {
   "cell_type": "code",
   "execution_count": 263,
   "metadata": {},
   "outputs": [
    {
     "name": "stdout",
     "output_type": "stream",
     "text": [
      "############## has_visited ##############\n",
      "Mean: 2.8673366834170855\n",
      "Standard deviation: 2.2551980029196814\n",
      "Minimum: 0\n",
      "Maximum: 7\n",
      "############## END ##############\n"
     ]
    },
    {
     "data": {
      "image/png": "[encoded data removed]",
      "text/plain": [
       "<matplotlib.figure.Figure at 0x3151a668>"
      ]
     },
     "metadata": {},
     "output_type": "display_data"
    }
   ],
   "source": [
    "engagement_by_account = group_by_key(paid_engagement_in_first_week, 'account_key')\n",
    "describe_data(engagement_by_account, 'has_visited')"
   ]
  },
  {
   "cell_type": "code",
   "execution_count": 264,
   "metadata": {},
   "outputs": [
    {
     "data": {
      "text/plain": [
       "OrderedDict([('utc_date', datetime.datetime(2015, 1, 9, 0, 0)),\n",
       "             ('num_courses_visited', 1),\n",
       "             ('total_minutes_visited', 11.6793745),\n",
       "             ('lessons_completed', 0),\n",
       "             ('projects_completed', 0),\n",
       "             ('has_visited', 1),\n",
       "             ('account_key', '0')])"
      ]
     },
     "execution_count": 264,
     "metadata": {},
     "output_type": "execute_result"
    }
   ],
   "source": [
    "paid_engagement_in_first_week[0]\n",
    "#paid_submissions[0]"
   ]
  },
  {
   "cell_type": "code",
   "execution_count": 265,
   "metadata": {},
   "outputs": [
    {
     "name": "stdout",
     "output_type": "stream",
     "text": [
      "passed_subway_project 647\n",
      "failed_subway_project 481\n"
     ]
    }
   ],
   "source": [
    "######################################\n",
    "#                 11                 #\n",
    "######################################\n",
    "\n",
    "## Create two lists of engagement data for paid students in the first week.\n",
    "## The first list should contain data for students who eventually pass the\n",
    "## subway project, and the second list should contain data for students\n",
    "## who do not.\n",
    "\n",
    "subway_project_lesson_keys = ['746169184', '3176718735']\n",
    "\n",
    "eval_processing_status = ['EVALUATED']\n",
    "passed_rating = ['PASSED','DISTINCTION']\n",
    "failed_ratings = [None,'INCOMPLETE','UNGRADED']\n",
    "\n",
    "\n",
    "def filter_submissions_by(ratings, lessons):\n",
    "    filted_data =set()\n",
    "    for submission in paid_submissions:\n",
    "        if(submission['lesson_key'] in lessons \\\n",
    "           and submission['processing_state'] in eval_processing_status \\\n",
    "           and submission['assigned_rating'] in ratings  ):\n",
    "             filted_data.add(submission['account_key'])\n",
    "    \n",
    "    return filted_data\n",
    "\n",
    "passed_subway_project = filter_submissions_by(passed_rating, subway_project_lesson_keys)\n",
    "failed_subway_project = filter_submissions_by(failed_ratings, subway_project_lesson_keys)\n",
    "\n",
    "print ('passed_subway_project', len(passed_subway_project))\n",
    "print ('failed_subway_project', len(failed_subway_project))\n"
   ]
  },
  {
   "cell_type": "code",
   "execution_count": 266,
   "metadata": {},
   "outputs": [
    {
     "name": "stdout",
     "output_type": "stream",
     "text": [
      "passing_engagement 4527\n",
      "non_passing_engagement 2392\n"
     ]
    }
   ],
   "source": [
    "passing_engagement = []\n",
    "non_passing_engagement =[]\n",
    "\n",
    "for enagaement_rec in paid_engagement_in_first_week:\n",
    "    if(enagaement_rec['account_key']) in passed_subway_project: \n",
    "        passing_engagement.append(enagaement_rec)\n",
    "    else:\n",
    "        non_passing_engagement.append(enagaement_rec)\n",
    "\n",
    "\n",
    "print ('passing_engagement', len(passing_engagement))\n",
    "print ('non_passing_engagement', len(non_passing_engagement))"
   ]
  },
  {
   "cell_type": "code",
   "execution_count": 267,
   "metadata": {},
   "outputs": [
    {
     "name": "stdout",
     "output_type": "stream",
     "text": [
      "############## has_visited ##############\n",
      "Mean: 3.384853168469861\n",
      "Standard deviation: 2.2588214709184595\n",
      "Minimum: 0\n",
      "Maximum: 7\n",
      "############## END ##############\n"
     ]
    },
    {
     "data": {
      "image/png": "[encoded data removed]",
      "text/plain": [
       "<matplotlib.figure.Figure at 0x31525710>"
      ]
     },
     "metadata": {},
     "output_type": "display_data"
    }
   ],
   "source": [
    "\n",
    "passed_engagements = group_by_key(passing_engagement , 'account_key')\n",
    "describe_data(passed_engagements, 'has_visited')\n"
   ]
  },
  {
   "cell_type": "code",
   "execution_count": 268,
   "metadata": {},
   "outputs": [
    {
     "name": "stdout",
     "output_type": "stream",
     "text": [
      "############## lessons_completed ##############\n",
      "Mean: 2.052550231839258\n",
      "Standard deviation: 3.1422270555779344\n",
      "Minimum: 0\n",
      "Maximum: 36\n",
      "############## END ##############\n"
     ]
    },
    {
     "data": {
      "image/png": "[encoded data removed]",
      "text/plain": [
       "<matplotlib.figure.Figure at 0x321085c0>"
      ]
     },
     "metadata": {},
     "output_type": "display_data"
    }
   ],
   "source": [
    "describe_data(passed_engagements, 'lessons_completed')"
   ]
  },
  {
   "cell_type": "code",
   "execution_count": 269,
   "metadata": {},
   "outputs": [
    {
     "name": "stdout",
     "output_type": "stream",
     "text": [
      "############## total_minutes_visited ##############\n",
      "Mean: 394.58604648350865\n",
      "Standard deviation: 448.4995193265521\n",
      "Minimum: 0.0\n",
      "Maximum: 3564.7332644989997\n",
      "############## END ##############\n"
     ]
    },
    {
     "data": {
      "image/png": "[encoded data removed]",
      "text/plain": [
       "<matplotlib.figure.Figure at 0x3210f400>"
      ]
     },
     "metadata": {},
     "output_type": "display_data"
    }
   ],
   "source": [
    "describe_data(passed_engagements, 'total_minutes_visited')"
   ]
  },
  {
   "cell_type": "code",
   "execution_count": 273,
   "metadata": {},
   "outputs": [],
   "source": [
    "\n",
    "failed_data = group_by_key(non_passing_engagement , 'account_key')\n",
    "\n"
   ]
  },
  {
   "cell_type": "code",
   "execution_count": 274,
   "metadata": {},
   "outputs": [
    {
     "name": "stdout",
     "output_type": "stream",
     "text": [
      "############## has_visited ##############\n",
      "Mean: 1.9051724137931034\n",
      "Standard deviation: 1.9057314413619046\n",
      "Minimum: 0\n",
      "Maximum: 7\n",
      "############## END ##############\n"
     ]
    },
    {
     "data": {
      "image/png": "[encoded data removed]",
      "text/plain": [
       "<matplotlib.figure.Figure at 0x32221630>"
      ]
     },
     "metadata": {},
     "output_type": "display_data"
    }
   ],
   "source": [
    "describe_data(failed_data, 'has_visited')\n"
   ]
  },
  {
   "cell_type": "code",
   "execution_count": 275,
   "metadata": {},
   "outputs": [
    {
     "name": "stdout",
     "output_type": "stream",
     "text": [
      "############## lessons_completed ##############\n",
      "Mean: 0.8620689655172413\n",
      "Standard deviation: 2.5491599418312028\n",
      "Minimum: 0\n",
      "Maximum: 27\n",
      "############## END ##############\n"
     ]
    },
    {
     "data": {
      "image/png": "[encoded data removed]",
      "text/plain": [
       "<matplotlib.figure.Figure at 0x3226c5f8>"
      ]
     },
     "metadata": {},
     "output_type": "display_data"
    }
   ],
   "source": [
    "describe_data(failed_data, 'lessons_completed')\n"
   ]
  },
  {
   "cell_type": "code",
   "execution_count": 276,
   "metadata": {},
   "outputs": [
    {
     "name": "stdout",
     "output_type": "stream",
     "text": [
      "############## total_minutes_visited ##############\n",
      "Mean: 143.32647426675584\n",
      "Standard deviation: 269.5386190114951\n",
      "Minimum: 0.0\n",
      "Maximum: 1768.5227493319999\n",
      "############## END ##############\n"
     ]
    },
    {
     "data": {
      "image/png": "[encoded data removed]",
      "text/plain": [
       "<matplotlib.figure.Figure at 0x322b94a8>"
      ]
     },
     "metadata": {},
     "output_type": "display_data"
    }
   ],
   "source": [
    "describe_data(failed_data, 'total_minutes_visited')"
   ]
  },
  {
   "cell_type": "code",
   "execution_count": null,
   "metadata": {},
   "outputs": [],
   "source": []
  }
 ],
 "metadata": {
  "kernelspec": {
   "display_name": "Python 3",
   "language": "python",
   "name": "python3"
  },
  "language_info": {
   "codemirror_mode": {
    "name": "ipython",
    "version": 3
   },
   "file_extension": ".py",
   "mimetype": "text/x-python",
   "name": "python",
   "nbconvert_exporter": "python",
   "pygments_lexer": "ipython3",
   "version": "3.6.3"
  }
 },
 "nbformat": 4,
 "nbformat_minor": 2
}
